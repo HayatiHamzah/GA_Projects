{
 "cells": [
  {
   "cell_type": "code",
   "execution_count": 47,
   "metadata": {
    "collapsed": true
   },
   "outputs": [],
   "source": [
    "import pandas as pd\n",
    "import pickle\n",
    "from sklearn.model_selection import train_test_split\n",
    "from sklearn.feature_extraction.text import CountVectorizer\n",
    "from sklearn.decomposition import PCA\n",
    "from sklearn.preprocessing import StandardScaler\n",
    "from sklearn.linear_model import LogisticRegression\n",
    "from sklearn import metrics"
   ]
  },
  {
   "cell_type": "code",
   "execution_count": 48,
   "metadata": {
    "collapsed": true
   },
   "outputs": [],
   "source": [
    "# pickle_out=open(\"./pickled/Q_table_v2_15_jan\",\"wb\")\n",
    "# pickle.dump(Q,pickle_out)\n",
    "# pickle_out.close()\n",
    "pickle_in=open(\"./all_jobs\",\"rb\")\n",
    "all_jobs=pickle.load(pickle_in)\n",
    "pickle_in.close()"
   ]
  },
  {
   "cell_type": "code",
   "execution_count": 49,
   "metadata": {
    "collapsed": true
   },
   "outputs": [],
   "source": [
    "all_jobs.job_title=all_jobs.job_title.map(lambda x: x.lower())\n",
    "\n",
    "# note that the engineer label here refers to data engineer\n",
    "\n",
    "data_list=['data','deep learning','machine learning',' ai','ai ','nlp ',' nlp',' ml','ml ','artificial intelligence']\n",
    "\n",
    "def is_category(x):\n",
    "    ans=\"dont_care\"\n",
    "    if any(data_word in x for data_word in set(data_list)):\n",
    "        if \"database\" in x:\n",
    "            ans=\"database\"\n",
    "        if \"scientist\" in x:\n",
    "            ans=\"scientist\"\n",
    "        if \"analyst\" in x:\n",
    "            ans=\"analyst\"\n",
    "        if \"engineer\" in x:\n",
    "            ans=\"engineer\"\n",
    "    return(ans)\n",
    "\n",
    "all_jobs[\"is_category\"]=all_jobs.job_title.map(is_category)\n"
   ]
  },
  {
   "cell_type": "code",
   "execution_count": 50,
   "metadata": {
    "collapsed": true
   },
   "outputs": [],
   "source": [
    "uniquetitle, duplicate_index = [],[]\n",
    "for (i,x) in enumerate(all_jobs['job_title']):\n",
    "\n",
    "    if len(x) > 35: # if job desc is too long and repeats, likely that it is a duplicate.\n",
    "        if x in set(uniquetitle):\n",
    "            duplicate_index.append(i)\n",
    "        elif x not in set(uniquetitle):\n",
    "            uniquetitle.append(x)\n",
    "all_jobs.drop(duplicate_index,inplace=True)"
   ]
  },
  {
   "cell_type": "code",
   "execution_count": 51,
   "metadata": {
    "collapsed": true
   },
   "outputs": [],
   "source": [
    "all_jobs=all_jobs[all_jobs.is_category!=\"dont_care\"]"
   ]
  },
  {
   "cell_type": "code",
   "execution_count": 52,
   "metadata": {
    "collapsed": true
   },
   "outputs": [],
   "source": [
    "X = all_jobs.drop([\"is_category\"],axis=1).copy()\n",
    "X.drop([\"job_title\"],inplace=True,axis=1)\n",
    "y = all_jobs.is_category.copy()\n",
    "X_train, X_test, y_train, y_test = train_test_split(X, y, test_size=0.33, random_state=42)"
   ]
  },
  {
   "cell_type": "code",
   "execution_count": 53,
   "metadata": {
    "collapsed": true
   },
   "outputs": [],
   "source": [
    "# then do train test split and leave the test set untouched to avoid cheating.\n",
    "\n",
    "# combine all descriptions for analyst\n",
    "# combine all job desc for scientist\n",
    "\n",
    "# tfidf to extract terms (or ngrams) unique to each category\n",
    "# similar idea to today's trump tweets lab\n",
    "# whatever numerical features engineered for train set, manually replicate on test set also."
   ]
  },
  {
   "cell_type": "code",
   "execution_count": 54,
   "metadata": {
    "collapsed": true
   },
   "outputs": [],
   "source": [
    "countvec = CountVectorizer(lowercase=True,ngram_range=(2,4),stop_words=\"english\")\n",
    "X_trainCV = countvec.fit_transform(X_train['required_skills'])\n",
    "X_testCV = countvec.transform(X_test['required_skills'])"
   ]
  },
  {
   "cell_type": "code",
   "execution_count": 55,
   "metadata": {
    "collapsed": true
   },
   "outputs": [],
   "source": [
    "X_trainCV = pd.DataFrame(X_trainCV.todense())\n",
    "X_testCV = pd.DataFrame(X_testCV.todense())"
   ]
  },
  {
   "cell_type": "code",
   "execution_count": 56,
   "metadata": {
    "collapsed": true
   },
   "outputs": [],
   "source": [
    "ss = StandardScaler()\n",
    "X_train_ss = ss.fit_transform(X_trainCV)\n",
    "X_test_ss = ss.transform(X_testCV)"
   ]
  },
  {
   "cell_type": "code",
   "execution_count": 57,
   "metadata": {
    "collapsed": true
   },
   "outputs": [],
   "source": [
    "X_pca = PCA(n_components=100)\n",
    "X_trainPCA = X_pca.fit_transform(X_train_ss)\n",
    "X_testPCA = X_pca.transform(X_test_ss)"
   ]
  },
  {
   "cell_type": "code",
   "execution_count": 58,
   "metadata": {},
   "outputs": [
    {
     "data": {
      "text/plain": [
       "0.6424870466321243"
      ]
     },
     "execution_count": 58,
     "metadata": {},
     "output_type": "execute_result"
    }
   ],
   "source": [
    "lr = LogisticRegression()\n",
    "lr.fit(X_trainPCA,y_train)\n",
    "lr.score(X_testPCA,y_test)"
   ]
  },
  {
   "cell_type": "code",
   "execution_count": 59,
   "metadata": {},
   "outputs": [
    {
     "data": {
      "text/plain": [
       "engineer     0.362694\n",
       "scientist    0.316062\n",
       "analyst      0.295337\n",
       "database     0.025907\n",
       "Name: is_category, dtype: float64"
      ]
     },
     "execution_count": 59,
     "metadata": {},
     "output_type": "execute_result"
    }
   ],
   "source": [
    "y_test.value_counts()/len(y_test)"
   ]
  },
  {
   "cell_type": "code",
   "execution_count": 60,
   "metadata": {},
   "outputs": [
    {
     "data": {
      "text/plain": [
       "0.55504341663569234"
      ]
     },
     "execution_count": 60,
     "metadata": {},
     "output_type": "execute_result"
    }
   ],
   "source": [
    "X_pca.explained_variance_ratio_.sum()"
   ]
  },
  {
   "cell_type": "code",
   "execution_count": 61,
   "metadata": {},
   "outputs": [
    {
     "name": "stdout",
     "output_type": "stream",
     "text": [
      "\n",
      "             precision    recall  f1-score   support\n",
      "\n",
      "    analyst       0.53      0.86      0.66        57\n",
      "   database       1.00      0.40      0.57         5\n",
      "   engineer       0.71      0.43      0.54        70\n",
      "  scientist       0.75      0.70      0.73        61\n",
      "\n",
      "avg / total       0.68      0.64      0.63       193\n",
      "\n",
      "[[49  0  5  3]\n",
      " [ 3  2  0  0]\n",
      " [29  0 30 11]\n",
      " [11  0  7 43]]\n",
      "\n"
     ]
    }
   ],
   "source": [
    "y_pred_lg=lr.predict(X_testPCA)\n",
    "print(f\"\"\"\n",
    "{metrics.classification_report(y_test, y_pred_lg)}\n",
    "{metrics.confusion_matrix(y_test, y_pred_lg)}\n",
    "\"\"\")"
   ]
  },
  {
   "cell_type": "code",
   "execution_count": null,
   "metadata": {
    "collapsed": true
   },
   "outputs": [],
   "source": []
  },
  {
   "cell_type": "code",
   "execution_count": null,
   "metadata": {
    "collapsed": true
   },
   "outputs": [],
   "source": []
  }
 ],
 "metadata": {
  "kernelspec": {
   "display_name": "Python 2",
   "language": "python",
   "name": "python2"
  },
  "language_info": {
   "codemirror_mode": {
    "name": "ipython",
    "version": 2
   },
   "file_extension": ".py",
   "mimetype": "text/x-python",
   "name": "python",
   "nbconvert_exporter": "python",
   "pygments_lexer": "ipython2",
   "version": "2.7.14"
  }
 },
 "nbformat": 4,
 "nbformat_minor": 2
}
